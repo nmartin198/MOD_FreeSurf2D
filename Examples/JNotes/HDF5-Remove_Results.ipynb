{
 "cells": [
  {
   "cell_type": "markdown",
   "metadata": {},
   "source": [
    "# MOD_FreeSurf2D HFS5: Remove Results"
   ]
  },
  {
   "cell_type": "markdown",
   "metadata": {},
   "source": [
    "To reuse a HDF5 file for multiple simulations, the previous results need to be removed prior to beginning the new simulation. Otherwise, the Matlab HDF5 functions will throw an error and will not overwrite previous results.\n",
    "\n",
    "This notebook provides a simple example of copying an existing HDF5 file with results and then removing the results from the copy. After removing the results, please run **h5repack.exe** to actually remove the storage space for the results from the HDF5 archive file.\n",
    "\n",
    "[h5repack.exe](https://portal.hdfgroup.org/display/HDF5/h5repack)\n",
    "\n",
    "**Note**: The optimal approach is probably to always maintain an unaltered copy of the input HDF5 file that can be copied to new directories and modified prior to simulation. This approach avoids the need for continual repacking of the HDF5 file to avoid very large file sizes."
   ]
  },
  {
   "cell_type": "markdown",
   "metadata": {},
   "source": [
    "## Parameters and Imports"
   ]
  },
  {
   "cell_type": "code",
   "execution_count": 1,
   "metadata": {},
   "outputs": [],
   "source": [
    "import os\n",
    "import h5py\n",
    "from IPython.display import display, HTML\n",
    "import datetime as dt\n",
    "import numpy as np\n",
    "import shutil"
   ]
  },
  {
   "cell_type": "markdown",
   "metadata": {},
   "source": [
    "Need at least h5py version 3.1.0"
   ]
  },
  {
   "cell_type": "code",
   "execution_count": 2,
   "metadata": {},
   "outputs": [
    {
     "data": {
      "text/plain": [
       "'3.1.0'"
      ]
     },
     "execution_count": 2,
     "metadata": {},
     "output_type": "execute_result"
    }
   ],
   "source": [
    "h5py.__version__"
   ]
  },
  {
   "cell_type": "code",
   "execution_count": 3,
   "metadata": {},
   "outputs": [],
   "source": [
    "InFile = r'D:\\Repositories\\MOD_FreeSurf2D\\Examples\\ConvS3\\ConvS3.h5'\n",
    "OutFile = r'D:\\Repositories\\MOD_FreeSurf2D\\Examples\\ConvS3\\ConvS3-NoResults.h5'"
   ]
  },
  {
   "cell_type": "markdown",
   "metadata": {},
   "source": [
    "## Copy the File"
   ]
  },
  {
   "cell_type": "code",
   "execution_count": 5,
   "metadata": {},
   "outputs": [
    {
     "data": {
      "text/plain": [
       "'D:\\\\Repositories\\\\MOD_FreeSurf2D\\\\Examples\\\\ConvS3\\\\ConvS3-NoResults.h5'"
      ]
     },
     "execution_count": 5,
     "metadata": {},
     "output_type": "execute_result"
    }
   ],
   "source": [
    "shutil.copyfile( InFile, OutFile )"
   ]
  },
  {
   "cell_type": "markdown",
   "metadata": {},
   "source": [
    "## Edit the File Copy"
   ]
  },
  {
   "cell_type": "code",
   "execution_count": 11,
   "metadata": {},
   "outputs": [],
   "source": [
    "with h5py.File( OutFile, 'a' ) as h5:\n",
    "    out_grp = h5['/Outputs']\n",
    "    for subgrp in out_grp:\n",
    "        print(\"Delete %s\" % subgrp)\n",
    "        del out_grp[subgrp]\n",
    "    # end for\n",
    "# end with and close file"
   ]
  },
  {
   "cell_type": "code",
   "execution_count": null,
   "metadata": {},
   "outputs": [],
   "source": []
  }
 ],
 "metadata": {
  "kernelspec": {
   "display_name": "Python 3",
   "language": "python",
   "name": "python3"
  },
  "language_info": {
   "codemirror_mode": {
    "name": "ipython",
    "version": 3
   },
   "file_extension": ".py",
   "mimetype": "text/x-python",
   "name": "python",
   "nbconvert_exporter": "python",
   "pygments_lexer": "ipython3",
   "version": "3.8.5"
  }
 },
 "nbformat": 4,
 "nbformat_minor": 4
}
